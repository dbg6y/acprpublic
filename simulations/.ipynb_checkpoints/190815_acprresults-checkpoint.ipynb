{
 "cells": [
  {
   "cell_type": "code",
   "execution_count": 1,
   "metadata": {},
   "outputs": [],
   "source": [
    "### Community Water Project Results\n",
    "\n",
    "\n",
    "## Import Modules\n",
    "from matplotlib import pyplot as plt\n",
    "import numpy as np\n",
    "import pandas as pd\n",
    "from scipy.stats import gaussian_kde\n",
    "import sqlite3\n",
    "import json"
   ]
  },
  {
   "cell_type": "code",
   "execution_count": 3,
   "metadata": {},
   "outputs": [],
   "source": [
    "## Import parameters and define functions\n",
    "with open(\"acprparam.json\", \"r\") as para_file:\n",
    "    para_data = json.load(para_file)\n",
    "    \n",
    "cats = ['RUAS', 'COMM', 'MEMB', 'RSCE', 'SIMU']\n",
    "for catg in cats:\n",
    "    for vble, valu in para_data[catg].items():\n",
    "        try:\n",
    "            exec(vble + ' = eval(valu)')\n",
    "        except:\n",
    "            exec(vble + ' = valu')\n",
    "DBSE_FILE = para_data['DBSE_FILE']"
   ]
  },
  {
   "cell_type": "code",
   "execution_count": 4,
   "metadata": {},
   "outputs": [],
   "source": [
    "# Connect to database\n",
    "conn = sqlite3.connect(DBSE_FILE)"
   ]
  },
  {
   "cell_type": "code",
   "execution_count": 5,
   "metadata": {},
   "outputs": [],
   "source": [
    "# Query database to extract data of interest\n",
    "simu_data = pd.read_sql_query(\"select * from simu_data;\", conn)\n",
    "ruas_rslt = pd.read_sql_query(\"select * from ruas_rslt;\", conn)"
   ]
  },
  {
   "cell_type": "code",
   "execution_count": 15,
   "metadata": {},
   "outputs": [],
   "source": [
    "# Sort and merge results\n",
    "ruas_rslt = ruas_rslt.sort_values(by=['simu', 'irun', 'cmid'])\n",
    "rucb_rslt = pd.merge(ruas_rslt, simu_data, on = 'simu')"
   ]
  },
  {
   "cell_type": "code",
   "execution_count": 31,
   "metadata": {},
   "outputs": [
    {
     "data": {
      "text/plain": [
       "<BarContainer object of 10 artists>"
      ]
     },
     "execution_count": 31,
     "metadata": {},
     "output_type": "execute_result"
    },
    {
     "data": {
      "image/png": "[encoded data removed]",
      "text/plain": [
       "<Figure size 432x288 with 1 Axes>"
      ]
     },
     "metadata": {
      "needs_background": "light"
     },
     "output_type": "display_data"
    }
   ],
   "source": [
    "# Plot average cooperator fraction by position\n",
    "cmbn_avfc = rucb_rslt.groupby('cmid', as_index = False)['fccp'].mean()\n",
    "\n",
    "fig1 = plt.figure()\n",
    "axs1 = fig1.add_subplot(1, 1, 1)\n",
    "axs1.set_xlabel('Community Position')\n",
    "axs1.set_ylabel('Cooperator Fraction')\n",
    "axs1.set_ylim([0, 1])\n",
    "axs1.bar(cmbn_avfc.cmid, cmbn_avfc.fccp, align = 'center', alpha = 0.5)"
   ]
  },
  {
   "cell_type": "code",
   "execution_count": 40,
   "metadata": {},
   "outputs": [
    {
     "data": {
      "text/html": [
       "<div>\n",
       "<style scoped>\n",
       "    .dataframe tbody tr th:only-of-type {\n",
       "        vertical-align: middle;\n",
       "    }\n",
       "\n",
       "    .dataframe tbody tr th {\n",
       "        vertical-align: top;\n",
       "    }\n",
       "\n",
       "    .dataframe thead th {\n",
       "        text-align: right;\n",
       "    }\n",
       "</style>\n",
       "<table border=\"1\" class=\"dataframe\">\n",
       "  <thead>\n",
       "    <tr style=\"text-align: right;\">\n",
       "      <th></th>\n",
       "      <th>irun</th>\n",
       "      <th>stfn</th>\n",
       "    </tr>\n",
       "  </thead>\n",
       "  <tbody>\n",
       "    <tr>\n",
       "      <th>6</th>\n",
       "      <td>6</td>\n",
       "      <td>0.3</td>\n",
       "    </tr>\n",
       "    <tr>\n",
       "      <th>327</th>\n",
       "      <td>327</td>\n",
       "      <td>0.8</td>\n",
       "    </tr>\n",
       "    <tr>\n",
       "      <th>542</th>\n",
       "      <td>542</td>\n",
       "      <td>0.2</td>\n",
       "    </tr>\n",
       "    <tr>\n",
       "      <th>555</th>\n",
       "      <td>555</td>\n",
       "      <td>0.7</td>\n",
       "    </tr>\n",
       "    <tr>\n",
       "      <th>674</th>\n",
       "      <td>674</td>\n",
       "      <td>0.3</td>\n",
       "    </tr>\n",
       "    <tr>\n",
       "      <th>940</th>\n",
       "      <td>940</td>\n",
       "      <td>0.1</td>\n",
       "    </tr>\n",
       "  </tbody>\n",
       "</table>\n",
       "</div>"
      ],
      "text/plain": [
       "     irun  stfn\n",
       "6       6   0.3\n",
       "327   327   0.8\n",
       "542   542   0.2\n",
       "555   555   0.7\n",
       "674   674   0.3\n",
       "940   940   0.1"
      ]
     },
     "execution_count": 40,
     "metadata": {},
     "output_type": "execute_result"
    }
   ],
   "source": [
    "test = rucb_rslt.groupby('irun', as_index = False)['stfn'].mean()\n",
    "less = test[test.stfn < 1]\n",
    "more = less[less.stfn > 0]\n",
    "more"
   ]
  },
  {
   "cell_type": "code",
   "execution_count": 6,
   "metadata": {},
   "outputs": [
    {
     "data": {
      "text/plain": [
       "<matplotlib.legend.Legend at 0x1a3c864550>"
      ]
     },
     "execution_count": 6,
     "metadata": {},
     "output_type": "execute_result"
    },
    {
     "data": {
      "image/png": "[encoded data removed]",
      "text/plain": [
       "<Figure size 432x288 with 1 Axes>"
      ]
     },
     "metadata": {
      "needs_background": "light"
     },
     "output_type": "display_data"
    }
   ],
   "source": [
    "# Calculate calculate net income densities\n",
    "ntin = np.linspace(0, 400, 41)\n",
    "cwnt_dens = gaussian_kde(mbcb_rslt.ntin)\n",
    "cwnt_dens.covariance_factor = lambda : .25\n",
    "cwnt_dens._compute_covariance()\n",
    "cpnt_dens = gaussian_kde(mbcb_rslt[mbcb_rslt.stus == 'Cooperator'].ntin)\n",
    "cpnt_dens.covariance_factor = lambda : .25\n",
    "cpnt_dens._compute_covariance()\n",
    "dfnt_dens = gaussian_kde(mbcb_rslt[mbcb_rslt.stus == 'Defector'].ntin)\n",
    "dfnt_dens.covariance_factor = lambda : .25\n",
    "dfnt_dens._compute_covariance()\n",
    "lcnt_dens = gaussian_kde(lccb_rslt.ntin)\n",
    "lcnt_dens.covariance_factor = lambda : .25\n",
    "lcnt_dens._compute_covariance()\n",
    "\n",
    "# Plot net income density by status\n",
    "fig1 = plt.figure()\n",
    "axs1 = fig1.add_subplot(1, 1, 1)\n",
    "axs1.set_xlabel('Net Income')\n",
    "axs1.set_ylabel('Density')\n",
    "axs1.plot(ntin, lcnt_dens(ntin), color = 'r', label = 'Locals')\n",
    "axs1.plot(ntin, cwnt_dens(ntin), color = 'b', label = 'CWP Members')\n",
    "axs1.plot(ntin, cpnt_dens(ntin), color = 'g', label = 'Cooperators')\n",
    "axs1.plot(ntin, dfnt_dens(ntin), color = 'y', label = 'Defectors')\n",
    "axs1.legend()"
   ]
  },
  {
   "cell_type": "code",
   "execution_count": null,
   "metadata": {},
   "outputs": [],
   "source": []
  }
 ],
 "metadata": {
  "kernelspec": {
   "display_name": "Python 3",
   "language": "python",
   "name": "python3"
  },
  "language_info": {
   "codemirror_mode": {
    "name": "ipython",
    "version": 3
   },
   "file_extension": ".py",
   "mimetype": "text/x-python",
   "name": "python",
   "nbconvert_exporter": "python",
   "pygments_lexer": "ipython3",
   "version": "3.6.7"
  }
 },
 "nbformat": 4,
 "nbformat_minor": 2
}
